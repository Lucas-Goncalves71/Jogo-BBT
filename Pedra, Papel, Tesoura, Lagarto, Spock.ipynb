{
 "cells": [
  {
   "cell_type": "code",
   "execution_count": 5,
   "metadata": {},
   "outputs": [
    {
     "name": "stdout",
     "output_type": "stream",
     "text": [
      "Requirement already satisfied: emoji in c:\\programdata\\anaconda3\\lib\\site-packages (0.6.0)\n",
      "Note: you may need to restart the kernel to use updated packages.\n"
     ]
    }
   ],
   "source": [
    "pip install emoji"
   ]
  },
  {
   "cell_type": "code",
   "execution_count": 8,
   "metadata": {},
   "outputs": [],
   "source": [
    "import emoji"
   ]
  },
  {
   "cell_type": "code",
   "execution_count": 10,
   "metadata": {},
   "outputs": [
    {
     "name": "stdout",
     "output_type": "stream",
     "text": [
      "Escolha sabiamente meu caro Nerd: \n",
      "[ 0 ] Pedra\n",
      "[ 1 ] Papel\n",
      "[ 2 ] Tesoura\n",
      "[ 3 ] Lagarto\n",
      "[ 4 ] Spock\n",
      "Qual é a sua jogada? 1\n",
      "PEDRA\n",
      "PAPEL\n",
      "TESOURA\n",
      "LAGARTO\n",
      "SPOCK\n",
      "-=-=-=-=-=-=-=-=-=-=-=-=-=-=-=\n",
      "Sheldon Cooper jogou Tesoura.\n",
      "Você chegou Papel.\n",
      "-=-=-=-=-=-=-=-=-=-=-=-=-=-=-=\n",
      "Tesoura corta papel! Você perdeu para o Sheldon! Ele disse que teve sorte.............BAZINGA!!! 😂\n"
     ]
    }
   ],
   "source": [
    "from random import randint\n",
    "from time import sleep\n",
    "itens = ('Pedra', 'Papel', 'Tesoura', 'Lagarto', 'Spock')\n",
    "Sheldon = randint(0,4)\n",
    "print('''Escolha sabiamente meu caro Nerd: \n",
    "[ 0 ] Pedra\n",
    "[ 1 ] Papel\n",
    "[ 2 ] Tesoura\n",
    "[ 3 ] Lagarto\n",
    "[ 4 ] Spock''')\n",
    "Nerd = int(input('Qual é a sua jogada? '))\n",
    "sleep (1)\n",
    "print('PEDRA')\n",
    "sleep (1)\n",
    "print('PAPEL')\n",
    "sleep (1)\n",
    "print('TESOURA')\n",
    "sleep (1)\n",
    "print('LAGARTO')\n",
    "sleep (1)\n",
    "print('SPOCK')\n",
    "print('-=' * 15)\n",
    "print('Sheldon Cooper jogou {}.'.format(itens[Sheldon]))\n",
    "print('Você chegou {}.'.format(itens[Nerd]))\n",
    "print('-=' * 15)\n",
    "if Sheldon == 0: # pedra\n",
    "    if Nerd == 0:\n",
    "        print(emoji.emojize('Temos uma EMPATE! O Sheldon não gostou! Veja a cara dele :rage:', use_aliases=True))\n",
    "    elif Nerd == 1:\n",
    "        print(emoji.emojize('Papel cobre pedra! Você ganhou!!! Parábens!!! Você superou Sheldon Cooper!! :stuck_out_tongue_winking_eye:', use_aliases=True))\n",
    "    elif Nerd == 2:\n",
    "        print(emoji.emojize('Pedra quebra tesoura! Você perdeu para o Sheldon! Ele disse que teve sorte.............BAZINGA!!! :joy:', use_aliases=True))\n",
    "    elif Nerd == 3:\n",
    "        print(emoji.emojize('Pedra esmaga lagarto! Você perdeu para o Sheldon! Ele disse que teve sorte.............BAZINGA!!! :joy:', use_aliases=True))\n",
    "    elif Nerd == 4:\n",
    "        print(emoji.emojize('Spock vaporiza pedra! Você ganhou!!! Parábens!!! Você superou Sheldon Cooper!! :stuck_out_tongue_winking_eye:', use_aliases=True))\n",
    "    else:\n",
    "        print('Você está nervoso, não deixe o Sheldon lhe descontrolar! Seja como o Leonard e jogue novamente com uma opção válida!')\n",
    "elif Sheldon == 1: # papel\n",
    "    if Nerd == 0:\n",
    "            print(emoji.emojize('Papel cobre pedra! Você perdeu para o Sheldon! Ele disse que foi sorte dele.............BAZINGA!!! :joy:', use_aliases=True))\n",
    "    elif Nerd == 1:\n",
    "        print(emoji.emojize('Temos uma EMPATE! O Sheldon não gostou! Veja a cara dele :rage:', use_aliases=True))\n",
    "    elif Nerd == 2:\n",
    "        print(emoji.emojize('Tesoura corta papel! Você ganhou!!! Parábens!!! Você superou Sheldon Cooper!! :stuck_out_tongue_winking_eye:', use_aliases=True))\n",
    "    elif Nerd == 3:\n",
    "        print(emoji.emojize('Lagarto come papel! Você ganhou!!! Parábens!!! Você superou Sheldon Cooper!! :stuck_out_tongue_winking_eye:', use_aliases=True))\n",
    "    elif Nerd == 4:\n",
    "        print(emoji.emojize('Papel refuta Spock! Você perdeu para o Sheldon! Ele disse que teve sorte.............BAZINGA!!! :joy:', use_aliases=True))\n",
    "    else:\n",
    "        print('Você está nervoso, não deixe o Sheldon lhe descontrolar! Seja como o Leonard e jogue novamente com uma opção válida!')\n",
    "elif Sheldon == 2: # tesoura\n",
    "    if Nerd == 0:\n",
    "        print(emoji.emojize('Pedra quebra tesoura! Você ganhou!!! Parábens!!! Você superou Sheldon Cooper!! :stuck_out_tongue_winking_eye:', use_aliases=True))\n",
    "    elif Nerd == 1:\n",
    "        print(emoji.emojize('Tesoura corta papel! Você perdeu para o Sheldon! Ele disse que teve sorte.............BAZINGA!!! :joy:', use_aliases=True))\n",
    "    elif Nerd == 2:\n",
    "        print(emoji.emojize('Temos uma EMPATE! O Sheldon não gostou! Veja a cara dele :rage:', use_aliases=True))\n",
    "    elif Nerd == 3:\n",
    "        print(emoji.emojize('Tesoura decapita lagarto! Você perdeu para o Sheldon! Ele disse que teve sorte.............BAZINGA!!! :joy:', use_aliases=True))\n",
    "    elif Nerd == 4:\n",
    "        print(emoji.emojize('Spock esmaga (ou derrete) tesoura! Você ganhou!!! Parábens!!! Você superou Sheldon Cooper!! :stuck_out_tongue_winking_eye:', use_aliases=True))\n",
    "    else:\n",
    "        print('Você está nervoso, não deixe o Sheldon lhe descontrolar! Seja como o Leonard e jogue novamente com uma opção válida!')\n",
    "elif Sheldon == 3: # lagarto\n",
    "    if Nerd == 0:\n",
    "        print(emoji.emojize('Pedra esmaga lagarto! Você ganhou!!! Parábens!!! Você superou Sheldon Cooper!! :stuck_out_tongue_winking_eye:', use_aliases=True))\n",
    "    elif Nerd == 1:\n",
    "        print(emoji.emojize('Lagarto come papel! Você perdeu para o Sheldon! Ele disse que teve sorte.............BAZINGA!!! :joy:', use_aliases=True))\n",
    "    elif Nerd == 2:\n",
    "        print(emoji.emojize('Tesoura decapita lagarto! Você ganhou!!! Parábens!!! Você superou Sheldon Cooper!! :stuck_out_tongue_winking_eye:', use_aliases=True))\n",
    "    elif Nerd == 3:\n",
    "        print(emoji.emojize('Temos uma EMPATE! O Sheldon não gostou! Veja a cara dele :rage:', use_aliases=True))\n",
    "    elif Nerd == 4:\n",
    "        print(emoji.emojize('Lagarto envenena Spock! Você perdeu para o Sheldon! Ele disse que teve sorte.............BAZINGA!!! :joy:', use_aliases=True))\n",
    "    else:\n",
    "        print('Você está nervoso, não deixe o Sheldon lhe descontrolar! Seja como o Leonard e jogue novamente com uma opção válida!')\n",
    "elif Sheldon == 4: # Spock\n",
    "    if Nerd == 0:\n",
    "        print(emoji.emojize('Spock vaporiza pedra! Você perdeu para o Sheldon! Ele disse que teve sorte.............BAZINGA!!! :joy:', use_aliases=True))\n",
    "    elif Nerd == 1:\n",
    "        print(emoji.emojize('Papel refuta Spock! Você ganhou!!! Parábens!!! Você superou Sheldon Cooper!! :stuck_out_tongue_winking_eye:', use_aliases=True))\n",
    "    elif Nerd == 2:\n",
    "        print(emoji.emojize('Spock esmaga (ou derrete) tesoura! Você perdeu para o Sheldon! Ele disse que teve sorte.............BAZINGA!!! :joy:', use_aliases=True))\n",
    "    elif Nerd == 3:\n",
    "        print(emoji.emojize('Lagarto envenena Spock! Você ganhou!!! Parábens!!! Você superou Sheldon Cooper!! :stuck_out_tongue_winking_eye:', use_aliases=True))\n",
    "    elif Nerd == 4:\n",
    "        print(emoji.emojize('Temos uma EMPATE! O Sheldon não gostou! Veja a cara dele :rage:', use_aliases=True))\n",
    "    else:\n",
    "        print('Você está nervoso, não deixe o Sheldon lhe descontrolar! Seja como o Leonard e jogue novamente com uma opção válida!')"
   ]
  },
  {
   "cell_type": "code",
   "execution_count": null,
   "metadata": {},
   "outputs": [],
   "source": []
  }
 ],
 "metadata": {
  "kernelspec": {
   "display_name": "Python 3",
   "language": "python",
   "name": "python3"
  },
  "language_info": {
   "codemirror_mode": {
    "name": "ipython",
    "version": 3
   },
   "file_extension": ".py",
   "mimetype": "text/x-python",
   "name": "python",
   "nbconvert_exporter": "python",
   "pygments_lexer": "ipython3",
   "version": "3.8.5"
  }
 },
 "nbformat": 4,
 "nbformat_minor": 4
}
